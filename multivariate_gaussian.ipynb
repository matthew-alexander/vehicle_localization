{
 "cells": [
  {
   "cell_type": "code",
   "execution_count": 1,
   "metadata": {
    "collapsed": true
   },
   "outputs": [],
   "source": [
    "import math"
   ]
  },
  {
   "cell_type": "code",
   "execution_count": 7,
   "metadata": {
    "collapsed": false
   },
   "outputs": [
    {
     "name": "stdout",
     "output_type": "stream",
     "text": [
      "-5.555555555555555\n"
     ]
    }
   ],
   "source": [
    "def mvg(x,y, mx,my):\n",
    "    sig_x = 0.3\n",
    "    sig_y = 0.3\n",
    "    p1 = 1 / (2*math.pi*sig_x*sig_y)\n",
    "    p2x= ((x-mx)*(x-mx)) / (2*sig_x*sig_x)\n",
    "    p2y= ((y-my)*(y-my)) / (2*sig_y*sig_y)\n",
    "    p2 = -1*(p2x+p2y)\n",
    "    p3 = math.exp(p2)\n",
    "    p = p1*p3\n",
    "    print(p2)\n",
    "    \n",
    "a1 = mvg(6,3,5,3)\n",
    "# a2 = mvg(2,2,2,1)\n",
    "# a3 = mvg(0,5,4,7)"
   ]
  },
  {
   "cell_type": "code",
   "execution_count": null,
   "metadata": {
    "collapsed": true
   },
   "outputs": [],
   "source": []
  }
 ],
 "metadata": {
  "kernelspec": {
   "display_name": "Python [conda root]",
   "language": "python",
   "name": "conda-root-py"
  },
  "language_info": {
   "codemirror_mode": {
    "name": "ipython",
    "version": 3
   },
   "file_extension": ".py",
   "mimetype": "text/x-python",
   "name": "python",
   "nbconvert_exporter": "python",
   "pygments_lexer": "ipython3",
   "version": "3.5.2"
  }
 },
 "nbformat": 4,
 "nbformat_minor": 2
}
